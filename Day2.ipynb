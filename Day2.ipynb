{
 "cells": [
  {
   "cell_type": "code",
   "execution_count": 2,
   "id": "e4c268a7",
   "metadata": {},
   "outputs": [
    {
     "name": "stdout",
     "output_type": "stream",
     "text": [
      "Enter two values: 5 10\n",
      "Number of boys:  5\n",
      "Number of girls:  10\n",
      "\n"
     ]
    }
   ],
   "source": [
    "x, y = input(\"Enter two values: \").split()\n",
    "print(\"Number of boys: \", x)\n",
    "print(\"Number of girls: \", y)\n",
    "print()"
   ]
  },
  {
   "cell_type": "code",
   "execution_count": 4,
   "id": "bec33b1e",
   "metadata": {},
   "outputs": [
    {
     "name": "stdout",
     "output_type": "stream",
     "text": [
      "Enter three values: 18 10 8\n",
      "Total number of students:  18\n",
      "Number of boys is :  10\n",
      "Number of girls is :  8\n",
      "\n"
     ]
    }
   ],
   "source": [
    "x, y, z = input(\"Enter three values: \").split()\n",
    "print(\"Total number of students: \", x)\n",
    "print(\"Number of boys is : \", y)\n",
    "print(\"Number of girls is : \", z)\n",
    "print()"
   ]
  },
  {
   "cell_type": "code",
   "execution_count": 5,
   "id": "f8506501",
   "metadata": {},
   "outputs": [
    {
     "name": "stdout",
     "output_type": "stream",
     "text": [
      "Enter the values: 99 33 33 33\n",
      "Total no of qnt:  99\n",
      "No of qnt1 is :  33\n",
      "No of qnt2 is :  33\n",
      "No of qnt3 is :  33\n"
     ]
    }
   ],
   "source": [
    "p,q,r,s=input(\"Enter the values: \").split()\n",
    "print(\"Total no of qnt: \", p)\n",
    "print(\"No of qnt1 is : \", q)\n",
    "print(\"No of qnt2 is : \", r)\n",
    "print(\"No of qnt3 is : \", s)"
   ]
  },
  {
   "cell_type": "code",
   "execution_count": 6,
   "id": "12e093aa",
   "metadata": {},
   "outputs": [
    {
     "name": "stdout",
     "output_type": "stream",
     "text": [
      "Enter two values: 29 30\n",
      "First number is 29 and second number is 30\n",
      "\n"
     ]
    }
   ],
   "source": [
    "a, b = input(\"Enter two values: \").split()\n",
    "print(\"First number is {} and second number is {}\".format(a, b))\n",
    "print()"
   ]
  },
  {
   "cell_type": "code",
   "execution_count": 8,
   "id": "6cc62078",
   "metadata": {},
   "outputs": [
    {
     "name": "stdout",
     "output_type": "stream",
     "text": [
      "Enter the multiple values: 10 12 13 12 14 5 6 6 78 89\n",
      "List of students:  [10, 12, 13, 12, 14, 5, 6, 6, 78, 89]\n"
     ]
    }
   ],
   "source": [
    "x=list(map(int,input(\"Enter the multiple values: \").split()))\n",
    "print(\"List of students: \",x)"
   ]
  },
  {
   "cell_type": "code",
   "execution_count": 9,
   "id": "9922938e",
   "metadata": {},
   "outputs": [
    {
     "name": "stdout",
     "output_type": "stream",
     "text": [
      "Enter two values: 49 50\n",
      "First Number is:  49\n",
      "Second Number is:  50\n",
      "\n"
     ]
    }
   ],
   "source": [
    "x,y=[int(x) for x in input(\"Enter two values: \").split()]\n",
    "print(\"First Number is: \", x)\n",
    "print(\"Second Number is: \", y)\n",
    "print()"
   ]
  },
  {
   "cell_type": "code",
   "execution_count": 10,
   "id": "af8c32f6",
   "metadata": {},
   "outputs": [
    {
     "name": "stdout",
     "output_type": "stream",
     "text": [
      "Rishabh \n",
      " is best for cds.\n"
     ]
    }
   ],
   "source": [
    "print(\"Rishabh \\n is best for cds.\")"
   ]
  },
  {
   "cell_type": "code",
   "execution_count": 11,
   "id": "15b5a55e",
   "metadata": {},
   "outputs": [
    {
     "name": "stdout",
     "output_type": "stream",
     "text": [
      "Rishabh is best for cds.\n",
      "Rishabh is best for cds\n"
     ]
    }
   ],
   "source": [
    "print(\"Rishabh is best for cds.\")\n",
    "print(\"Rishabh\",end=\" \")\n",
    "print(\"is best for cds\")"
   ]
  },
  {
   "cell_type": "code",
   "execution_count": 13,
   "id": "887cd392",
   "metadata": {},
   "outputs": [
    {
     "name": "stdout",
     "output_type": "stream",
     "text": [
      "3>>>2>>>1>>>Start\n"
     ]
    }
   ],
   "source": [
    "import time\n",
    " \n",
    "count_seconds = 3\n",
    "for i in reversed(range(count_seconds + 1)):\n",
    "    if i > 0:\n",
    "        print(i, end='>>>')\n",
    "        time.sleep(1)\n",
    "    else:\n",
    "        print('Start')"
   ]
  },
  {
   "cell_type": "code",
   "execution_count": 14,
   "id": "61e425b5",
   "metadata": {},
   "outputs": [
    {
     "name": "stdout",
     "output_type": "stream",
     "text": [
      "3>>>2>>>1>>>Bingo\n"
     ]
    }
   ],
   "source": [
    "import time \n",
    "count_seconds = 3\n",
    "for i in reversed(range(count_seconds + 1)):\n",
    "    if i >0:\n",
    "        print(i,end=\">>>\",flush=True)\n",
    "        time.sleep(1)\n",
    "    else:\n",
    "        print(\"Bingo\")"
   ]
  },
  {
   "cell_type": "code",
   "execution_count": 15,
   "id": "3746b035",
   "metadata": {},
   "outputs": [
    {
     "name": "stdout",
     "output_type": "stream",
     "text": [
      "Rishu kr kl\n"
     ]
    }
   ],
   "source": [
    "a=\"kr\"\n",
    "print(\"Rishu\", a ,\"kl\")"
   ]
  },
  {
   "cell_type": "code",
   "execution_count": 17,
   "id": "f6340004",
   "metadata": {},
   "outputs": [
    {
     "data": {
      "text/plain": [
       "'Hello Rishu!!\\n'"
      ]
     },
     "execution_count": 17,
     "metadata": {},
     "output_type": "execute_result"
    }
   ],
   "source": [
    "import io \n",
    "\n",
    "dummy_file = io.StringIO()\n",
    "\n",
    "print(\"Hello Rishu!!\",file=dummy_file)\n",
    "\n",
    "dummy_file.getvalue()"
   ]
  },
  {
   "cell_type": "code",
   "execution_count": null,
   "id": "0fda2c1e",
   "metadata": {},
   "outputs": [],
   "source": []
  }
 ],
 "metadata": {
  "kernelspec": {
   "display_name": "Python 3 (ipykernel)",
   "language": "python",
   "name": "python3"
  },
  "language_info": {
   "codemirror_mode": {
    "name": "ipython",
    "version": 3
   },
   "file_extension": ".py",
   "mimetype": "text/x-python",
   "name": "python",
   "nbconvert_exporter": "python",
   "pygments_lexer": "ipython3",
   "version": "3.9.7"
  }
 },
 "nbformat": 4,
 "nbformat_minor": 5
}
